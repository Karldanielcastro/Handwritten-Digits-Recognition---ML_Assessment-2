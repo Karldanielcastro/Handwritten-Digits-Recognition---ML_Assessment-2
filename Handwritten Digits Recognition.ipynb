{
 "cells": [
  {
   "cell_type": "markdown",
   "id": "5282ad28",
   "metadata": {},
   "source": [
    "# Library Import\n"
   ]
  },
  {
   "cell_type": "code",
   "execution_count": 2,
   "id": "4aaf89af",
   "metadata": {},
   "outputs": [],
   "source": [
    "import numpy as np\n",
    "import pandas as pd\n",
    "import random\n",
    "\n",
    "import tensorflow as tf\n",
    "import matplotlib.pyplot as plt\n",
    "import warnings\n",
    "\n",
    "from tqdm.notebook import tqdm\n",
    "from keras_preprocessing.image import img_to_array, load_img\n",
    "from sklearn.model_selection import train_test_split\n",
    "from keras.models import Sequential\n",
    "from keras.layers import Dense, Conv2D, Dropout, Flatten, MaxPooling2D\n",
    "\n",
    "%matplotlib inline\n",
    "warnings.filterwarnings('ignore')"
   ]
  },
  {
   "cell_type": "markdown",
   "id": "b64e6aaa",
   "metadata": {},
   "source": [
    "# File Import"
   ]
  },
  {
   "cell_type": "code",
   "execution_count": 15,
   "id": "cd9c9ff3",
   "metadata": {},
   "outputs": [],
   "source": [
    "df = pd.read_csv('train.csv')"
   ]
  },
  {
   "cell_type": "code",
   "execution_count": 16,
   "id": "09ef2ffa",
   "metadata": {},
   "outputs": [],
   "source": [
    "image_path = 'Images/train/'"
   ]
  },
  {
   "cell_type": "markdown",
   "id": "5bbb567e",
   "metadata": {},
   "source": [
    "## Train Data Info"
   ]
  },
  {
   "cell_type": "code",
   "execution_count": 39,
   "id": "197771c5",
   "metadata": {
    "scrolled": false
   },
   "outputs": [
    {
     "name": "stdout",
     "output_type": "stream",
     "text": [
      "<class 'pandas.core.frame.DataFrame'>\n",
      "RangeIndex: 49000 entries, 0 to 48999\n",
      "Data columns (total 2 columns):\n",
      " #   Column    Non-Null Count  Dtype \n",
      "---  ------    --------------  ----- \n",
      " 0   filename  49000 non-null  object\n",
      " 1   label     49000 non-null  int64 \n",
      "dtypes: int64(1), object(1)\n",
      "memory usage: 765.8+ KB\n"
     ]
    }
   ],
   "source": [
    "df.info()"
   ]
  },
  {
   "cell_type": "code",
   "execution_count": 41,
   "id": "f8b57ed4",
   "metadata": {},
   "outputs": [
    {
     "data": {
      "text/html": [
       "<div>\n",
       "<style scoped>\n",
       "    .dataframe tbody tr th:only-of-type {\n",
       "        vertical-align: middle;\n",
       "    }\n",
       "\n",
       "    .dataframe tbody tr th {\n",
       "        vertical-align: top;\n",
       "    }\n",
       "\n",
       "    .dataframe thead th {\n",
       "        text-align: right;\n",
       "    }\n",
       "</style>\n",
       "<table border=\"1\" class=\"dataframe\">\n",
       "  <thead>\n",
       "    <tr style=\"text-align: right;\">\n",
       "      <th></th>\n",
       "      <th>filename</th>\n",
       "      <th>label</th>\n",
       "    </tr>\n",
       "  </thead>\n",
       "  <tbody>\n",
       "    <tr>\n",
       "      <th>0</th>\n",
       "      <td>0.png</td>\n",
       "      <td>4</td>\n",
       "    </tr>\n",
       "    <tr>\n",
       "      <th>1</th>\n",
       "      <td>1.png</td>\n",
       "      <td>9</td>\n",
       "    </tr>\n",
       "    <tr>\n",
       "      <th>2</th>\n",
       "      <td>2.png</td>\n",
       "      <td>1</td>\n",
       "    </tr>\n",
       "    <tr>\n",
       "      <th>3</th>\n",
       "      <td>3.png</td>\n",
       "      <td>7</td>\n",
       "    </tr>\n",
       "    <tr>\n",
       "      <th>4</th>\n",
       "      <td>4.png</td>\n",
       "      <td>3</td>\n",
       "    </tr>\n",
       "  </tbody>\n",
       "</table>\n",
       "</div>"
      ],
      "text/plain": [
       "  filename  label\n",
       "0    0.png      4\n",
       "1    1.png      9\n",
       "2    2.png      1\n",
       "3    3.png      7\n",
       "4    4.png      3"
      ]
     },
     "execution_count": 41,
     "metadata": {},
     "output_type": "execute_result"
    }
   ],
   "source": [
    "df.head(5)"
   ]
  },
  {
   "cell_type": "markdown",
   "id": "4519fc95",
   "metadata": {},
   "source": [
    "## Loading Image into Array"
   ]
  },
  {
   "cell_type": "code",
   "execution_count": 5,
   "id": "8c108786",
   "metadata": {},
   "outputs": [
    {
     "data": {
      "application/vnd.jupyter.widget-view+json": {
       "model_id": "5a6c5a458a9b4a22bb84ee10b9dfb6e2",
       "version_major": 2,
       "version_minor": 0
      },
      "text/plain": [
       "  0%|          | 0/49000 [00:00<?, ?it/s]"
      ]
     },
     "metadata": {},
     "output_type": "display_data"
    }
   ],
   "source": [
    "X = np.array([img_to_array(load_img(image_path+df['filename'][i], target_size=(28,28,1), grayscale=True))\n",
    "              for i in tqdm(range(df.shape[0]))\n",
    "              ]).astype('float32')"
   ]
  },
  {
   "cell_type": "code",
   "execution_count": 6,
   "id": "aea75d16",
   "metadata": {},
   "outputs": [],
   "source": [
    "y = df['label']"
   ]
  },
  {
   "cell_type": "code",
   "execution_count": 7,
   "id": "7cc2684d",
   "metadata": {},
   "outputs": [
    {
     "name": "stdout",
     "output_type": "stream",
     "text": [
      "(49000, 28, 28, 1) (49000,)\n"
     ]
    }
   ],
   "source": [
    "print(X.shape, y.shape)"
   ]
  },
  {
   "cell_type": "markdown",
   "id": "bc336220",
   "metadata": {},
   "source": [
    "# Output Image"
   ]
  },
  {
   "cell_type": "code",
   "execution_count": 62,
   "id": "adcdd626",
   "metadata": {
    "scrolled": false
   },
   "outputs": [
    {
     "name": "stdout",
     "output_type": "stream",
     "text": [
      "7\n"
     ]
    },
    {
     "data": {
      "image/png": "[encoded data removed]",
      "text/plain": [
       "<Figure size 432x288 with 1 Axes>"
      ]
     },
     "metadata": {
      "needs_background": "light"
     },
     "output_type": "display_data"
    }
   ],
   "source": [
    "image_index = 3\n",
    "plt.imshow(X[image_index].reshape(28,28), cmap='Greens')\n",
    "print(y[image_index])"
   ]
  },
  {
   "cell_type": "code",
   "execution_count": 63,
   "id": "586e877e",
   "metadata": {},
   "outputs": [
    {
     "name": "stdout",
     "output_type": "stream",
     "text": [
      "3\n"
     ]
    },
    {
     "data": {
      "image/png": "[encoded data removed]",
      "text/plain": [
       "<Figure size 432x288 with 1 Axes>"
      ]
     },
     "metadata": {
      "needs_background": "light"
     },
     "output_type": "display_data"
    }
   ],
   "source": [
    "image_index = 29\n",
    "plt.imshow(X[image_index].reshape(28,28), cmap='Greens')\n",
    "print(y[image_index])"
   ]
  },
  {
   "cell_type": "markdown",
   "id": "6d4a7f75",
   "metadata": {},
   "source": [
    "# Train-Test Split"
   ]
  },
  {
   "cell_type": "code",
   "execution_count": 26,
   "id": "1eacdb82",
   "metadata": {},
   "outputs": [],
   "source": [
    "x_train, x_test, y_train, y_test = train_test_split(X, y, test_size=0.25, random_state=42, stratify=np.array(y))"
   ]
  },
  {
   "cell_type": "markdown",
   "id": "06ab8211",
   "metadata": {},
   "source": [
    "# Normalization\n"
   ]
  },
  {
   "cell_type": "code",
   "execution_count": 27,
   "id": "5ed1d89e",
   "metadata": {},
   "outputs": [],
   "source": [
    "x_train /= 255\n",
    "x_test /= 255"
   ]
  },
  {
   "cell_type": "markdown",
   "id": "d7d7c064",
   "metadata": {},
   "source": [
    "# Model \n"
   ]
  },
  {
   "cell_type": "code",
   "execution_count": 28,
   "id": "dcfbbdb9",
   "metadata": {},
   "outputs": [],
   "source": [
    "input_shape = (28,28,1)\n",
    "output_class = 10"
   ]
  },
  {
   "cell_type": "code",
   "execution_count": 61,
   "id": "3067606b",
   "metadata": {},
   "outputs": [],
   "source": [
    "model = Sequential()\n",
    "model.add(Conv2D(28, kernel_size=(3,3), input_shape=input_shape))\n",
    "model.add(MaxPooling2D(pool_size=(2,2)))\n",
    "model.add(Flatten())\n",
    "model.add(Dense(128, activation=tf.nn.relu))\n",
    "model.add(Dropout(0.3))\n",
    "model.add(Dense(output_class, activation=tf.nn.softmax))\n",
    "\n",
    "model.compile(optimizer='adam', loss='sparse_categorical_crossentropy', metrics='accuracy')"
   ]
  },
  {
   "cell_type": "markdown",
   "id": "ccffc9f4",
   "metadata": {},
   "source": [
    "## Model Train"
   ]
  },
  {
   "cell_type": "code",
   "execution_count": 64,
   "id": "896bfaab",
   "metadata": {
    "scrolled": false
   },
   "outputs": [
    {
     "name": "stdout",
     "output_type": "stream",
     "text": [
      "Epoch 1/50\n",
      "1149/1149 [==============================] - 11s 9ms/step - loss: 0.2848 - accuracy: 0.9148 - val_loss: 0.1209 - val_accuracy: 0.9632\n",
      "Epoch 2/50\n",
      "1149/1149 [==============================] - 9s 8ms/step - loss: 0.1260 - accuracy: 0.9614 - val_loss: 0.0908 - val_accuracy: 0.9714\n",
      "Epoch 3/50\n",
      "1149/1149 [==============================] - 9s 8ms/step - loss: 0.0913 - accuracy: 0.9719 - val_loss: 0.0710 - val_accuracy: 0.9766\n",
      "Epoch 4/50\n",
      "1149/1149 [==============================] - 9s 8ms/step - loss: 0.0702 - accuracy: 0.9777 - val_loss: 0.0713 - val_accuracy: 0.9779\n",
      "Epoch 5/50\n",
      "1149/1149 [==============================] - 10s 8ms/step - loss: 0.0540 - accuracy: 0.9824 - val_loss: 0.0676 - val_accuracy: 0.9811\n",
      "Epoch 6/50\n",
      "1149/1149 [==============================] - 9s 8ms/step - loss: 0.0473 - accuracy: 0.9842 - val_loss: 0.0778 - val_accuracy: 0.9777\n",
      "Epoch 7/50\n",
      "1149/1149 [==============================] - 9s 8ms/step - loss: 0.0401 - accuracy: 0.9869 - val_loss: 0.0693 - val_accuracy: 0.9811\n",
      "Epoch 8/50\n",
      "1149/1149 [==============================] - 10s 9ms/step - loss: 0.0331 - accuracy: 0.9887 - val_loss: 0.0738 - val_accuracy: 0.9809\n",
      "Epoch 9/50\n",
      "1149/1149 [==============================] - 10s 9ms/step - loss: 0.0335 - accuracy: 0.9886 - val_loss: 0.0774 - val_accuracy: 0.9807\n",
      "Epoch 10/50\n",
      "1149/1149 [==============================] - 10s 9ms/step - loss: 0.0275 - accuracy: 0.9905 - val_loss: 0.0719 - val_accuracy: 0.9816\n",
      "Epoch 11/50\n",
      "1149/1149 [==============================] - 10s 9ms/step - loss: 0.0250 - accuracy: 0.9913 - val_loss: 0.0764 - val_accuracy: 0.9805\n",
      "Epoch 12/50\n",
      "1149/1149 [==============================] - 10s 9ms/step - loss: 0.0236 - accuracy: 0.9918 - val_loss: 0.0783 - val_accuracy: 0.9810\n",
      "Epoch 13/50\n",
      "1149/1149 [==============================] - 10s 9ms/step - loss: 0.0244 - accuracy: 0.9919 - val_loss: 0.0738 - val_accuracy: 0.9838\n",
      "Epoch 14/50\n",
      "1149/1149 [==============================] - 10s 9ms/step - loss: 0.0191 - accuracy: 0.9933 - val_loss: 0.0863 - val_accuracy: 0.9826\n",
      "Epoch 15/50\n",
      "1149/1149 [==============================] - 10s 9ms/step - loss: 0.0198 - accuracy: 0.9934 - val_loss: 0.0798 - val_accuracy: 0.9834\n",
      "Epoch 16/50\n",
      "1149/1149 [==============================] - 10s 9ms/step - loss: 0.0193 - accuracy: 0.9936 - val_loss: 0.0884 - val_accuracy: 0.9829\n",
      "Epoch 17/50\n",
      "1149/1149 [==============================] - 10s 9ms/step - loss: 0.0170 - accuracy: 0.9940 - val_loss: 0.0967 - val_accuracy: 0.9814\n",
      "Epoch 18/50\n",
      "1149/1149 [==============================] - 10s 9ms/step - loss: 0.0167 - accuracy: 0.9949 - val_loss: 0.0879 - val_accuracy: 0.9814\n",
      "Epoch 19/50\n",
      "1149/1149 [==============================] - 10s 9ms/step - loss: 0.0182 - accuracy: 0.9938 - val_loss: 0.0942 - val_accuracy: 0.9811\n",
      "Epoch 20/50\n",
      "1149/1149 [==============================] - 10s 9ms/step - loss: 0.0155 - accuracy: 0.9943 - val_loss: 0.0890 - val_accuracy: 0.9842\n",
      "Epoch 21/50\n",
      "1149/1149 [==============================] - 10s 9ms/step - loss: 0.0147 - accuracy: 0.9947 - val_loss: 0.0906 - val_accuracy: 0.9836\n",
      "Epoch 22/50\n",
      "1149/1149 [==============================] - 10s 9ms/step - loss: 0.0158 - accuracy: 0.9948 - val_loss: 0.0874 - val_accuracy: 0.9850\n",
      "Epoch 23/50\n",
      "1149/1149 [==============================] - 10s 9ms/step - loss: 0.0145 - accuracy: 0.9951 - val_loss: 0.1087 - val_accuracy: 0.9816\n",
      "Epoch 24/50\n",
      "1149/1149 [==============================] - 10s 9ms/step - loss: 0.0138 - accuracy: 0.9952 - val_loss: 0.0906 - val_accuracy: 0.9835\n",
      "Epoch 25/50\n",
      "1149/1149 [==============================] - 10s 9ms/step - loss: 0.0143 - accuracy: 0.9952 - val_loss: 0.1097 - val_accuracy: 0.9816\n",
      "Epoch 26/50\n",
      "1149/1149 [==============================] - 10s 9ms/step - loss: 0.0149 - accuracy: 0.9952 - val_loss: 0.1103 - val_accuracy: 0.9810\n",
      "Epoch 27/50\n",
      "1149/1149 [==============================] - 10s 9ms/step - loss: 0.0146 - accuracy: 0.9952 - val_loss: 0.0985 - val_accuracy: 0.9829\n",
      "Epoch 28/50\n",
      "1149/1149 [==============================] - 10s 9ms/step - loss: 0.0120 - accuracy: 0.9956 - val_loss: 0.1134 - val_accuracy: 0.9821\n",
      "Epoch 29/50\n",
      "1149/1149 [==============================] - 10s 9ms/step - loss: 0.0137 - accuracy: 0.9955 - val_loss: 0.1062 - val_accuracy: 0.9833\n",
      "Epoch 30/50\n",
      "1149/1149 [==============================] - 10s 9ms/step - loss: 0.0114 - accuracy: 0.9962 - val_loss: 0.1046 - val_accuracy: 0.9825\n",
      "Epoch 31/50\n",
      "1149/1149 [==============================] - 10s 9ms/step - loss: 0.0127 - accuracy: 0.9955 - val_loss: 0.1058 - val_accuracy: 0.9847\n",
      "Epoch 32/50\n",
      "1149/1149 [==============================] - 10s 9ms/step - loss: 0.0104 - accuracy: 0.9965 - val_loss: 0.1114 - val_accuracy: 0.9835\n",
      "Epoch 33/50\n",
      "1149/1149 [==============================] - 10s 9ms/step - loss: 0.0091 - accuracy: 0.9970 - val_loss: 0.1316 - val_accuracy: 0.9824\n",
      "Epoch 34/50\n",
      "1149/1149 [==============================] - 10s 9ms/step - loss: 0.0130 - accuracy: 0.9958 - val_loss: 0.1175 - val_accuracy: 0.9824\n",
      "Epoch 35/50\n",
      "1149/1149 [==============================] - 10s 9ms/step - loss: 0.0142 - accuracy: 0.9955 - val_loss: 0.1136 - val_accuracy: 0.9837\n",
      "Epoch 36/50\n",
      "1149/1149 [==============================] - 10s 9ms/step - loss: 0.0107 - accuracy: 0.9964 - val_loss: 0.1153 - val_accuracy: 0.9834\n",
      "Epoch 37/50\n",
      "1149/1149 [==============================] - 10s 9ms/step - loss: 0.0134 - accuracy: 0.9960 - val_loss: 0.1042 - val_accuracy: 0.9842\n",
      "Epoch 38/50\n",
      "1149/1149 [==============================] - 10s 9ms/step - loss: 0.0097 - accuracy: 0.9969 - val_loss: 0.1154 - val_accuracy: 0.9838\n",
      "Epoch 39/50\n",
      "1149/1149 [==============================] - 10s 9ms/step - loss: 0.0123 - accuracy: 0.9961 - val_loss: 0.1182 - val_accuracy: 0.9829\n",
      "Epoch 40/50\n",
      "1149/1149 [==============================] - 10s 9ms/step - loss: 0.0100 - accuracy: 0.9967 - val_loss: 0.1136 - val_accuracy: 0.9839\n",
      "Epoch 41/50\n",
      "1149/1149 [==============================] - 10s 9ms/step - loss: 0.0110 - accuracy: 0.9962 - val_loss: 0.1186 - val_accuracy: 0.9826\n",
      "Epoch 42/50\n",
      "1149/1149 [==============================] - 10s 9ms/step - loss: 0.0106 - accuracy: 0.9965 - val_loss: 0.1192 - val_accuracy: 0.9844\n",
      "Epoch 43/50\n",
      "1149/1149 [==============================] - 10s 9ms/step - loss: 0.0108 - accuracy: 0.9962 - val_loss: 0.1243 - val_accuracy: 0.9836\n",
      "Epoch 44/50\n",
      "1149/1149 [==============================] - 10s 9ms/step - loss: 0.0133 - accuracy: 0.9964 - val_loss: 0.1174 - val_accuracy: 0.9838\n",
      "Epoch 45/50\n",
      "1149/1149 [==============================] - 10s 9ms/step - loss: 0.0117 - accuracy: 0.9961 - val_loss: 0.1202 - val_accuracy: 0.9849\n",
      "Epoch 46/50\n",
      "1149/1149 [==============================] - 10s 9ms/step - loss: 0.0092 - accuracy: 0.9972 - val_loss: 0.1230 - val_accuracy: 0.9836\n",
      "Epoch 47/50\n",
      "1149/1149 [==============================] - 10s 9ms/step - loss: 0.0093 - accuracy: 0.9971 - val_loss: 0.1414 - val_accuracy: 0.9845\n",
      "Epoch 48/50\n",
      "1149/1149 [==============================] - 10s 9ms/step - loss: 0.0081 - accuracy: 0.9973 - val_loss: 0.1411 - val_accuracy: 0.9823\n",
      "Epoch 49/50\n",
      "1149/1149 [==============================] - 10s 9ms/step - loss: 0.0108 - accuracy: 0.9967 - val_loss: 0.1344 - val_accuracy: 0.9837\n",
      "Epoch 50/50\n",
      "1149/1149 [==============================] - 10s 9ms/step - loss: 0.0111 - accuracy: 0.9967 - val_loss: 0.1374 - val_accuracy: 0.9840\n"
     ]
    }
   ],
   "source": [
    "history = model.fit(x=x_train, y=y_train, batch_size=32, epochs=50, validation_data=(x_test, y_test))"
   ]
  },
  {
   "cell_type": "markdown",
   "id": "c2426d0d",
   "metadata": {},
   "source": [
    "# Accuracy Graph"
   ]
  },
  {
   "cell_type": "code",
   "execution_count": 65,
   "id": "3df89c89",
   "metadata": {},
   "outputs": [
    {
     "data": {
      "image/png": "[encoded data removed]",
      "text/plain": [
       "<Figure size 432x288 with 1 Axes>"
      ]
     },
     "metadata": {
      "needs_background": "light"
     },
     "output_type": "display_data"
    },
    {
     "data": {
      "image/png": "[encoded data removed]",
      "text/plain": [
       "<Figure size 432x288 with 1 Axes>"
      ]
     },
     "metadata": {
      "needs_background": "light"
     },
     "output_type": "display_data"
    }
   ],
   "source": [
    "acc = history.history['accuracy']\n",
    "val_acc = history.history['val_accuracy']\n",
    "epochs = range(len(acc))\n",
    "\n",
    "plt.plot(epochs, acc, 'b', label='Training Accuracy')\n",
    "plt.plot(epochs, val_acc, 'r', label='Validation Accuracy')\n",
    "plt.title('Accuracy Graph')\n",
    "plt.legend()\n",
    "plt.figure()\n",
    "\n",
    "loss = history.history['loss']\n",
    "val_loss = history.history['val_loss']\n",
    "epochs = range(len(acc))\n",
    "\n",
    "plt.plot(epochs, loss, 'b', label='Training Loss')\n",
    "plt.plot(epochs, val_loss, 'r', label='Validation Loss')\n",
    "plt.title('Loss Graph')\n",
    "plt.legend()\n",
    "\n",
    "plt.show()"
   ]
  },
  {
   "cell_type": "markdown",
   "id": "9ff1345f",
   "metadata": {},
   "source": [
    "# Model Testing\n"
   ]
  },
  {
   "cell_type": "code",
   "execution_count": 75,
   "id": "fbb39de6",
   "metadata": {
    "scrolled": true
   },
   "outputs": [
    {
     "name": "stdout",
     "output_type": "stream",
     "text": [
      "1/1 [==============================] - 0s 17ms/step\n",
      "Prediction: 7\n"
     ]
    },
    {
     "data": {
      "image/png": "[encoded data removed]",
      "text/plain": [
       "<Figure size 432x288 with 1 Axes>"
      ]
     },
     "metadata": {
      "needs_background": "light"
     },
     "output_type": "display_data"
    }
   ],
   "source": [
    "image_index = (random.randint(0,1000))\n",
    "plt.imshow(x_test[image_index].reshape(28,28), cmap='Greens')\n",
    "pred = model.predict(x_test[image_index].reshape(1,28,28,1))\n",
    "print(\"Prediction:\", pred.argmax())"
   ]
  },
  {
   "cell_type": "code",
   "execution_count": 76,
   "id": "a9eedf4c",
   "metadata": {
    "scrolled": true
   },
   "outputs": [
    {
     "name": "stdout",
     "output_type": "stream",
     "text": [
      "1/1 [==============================] - 0s 18ms/step\n",
      "Prediction: 5\n"
     ]
    },
    {
     "data": {
      "image/png": "[encoded data removed]",
      "text/plain": [
       "<Figure size 432x288 with 1 Axes>"
      ]
     },
     "metadata": {
      "needs_background": "light"
     },
     "output_type": "display_data"
    }
   ],
   "source": [
    "image_index = (random.randint(0,1000))\n",
    "plt.imshow(x_test[image_index].reshape(28,28), cmap='Greens')\n",
    "pred = model.predict(x_test[image_index].reshape(1,28,28,1))\n",
    "print(\"Prediction:\", pred.argmax())"
   ]
  },
  {
   "cell_type": "code",
   "execution_count": 81,
   "id": "8a274f73",
   "metadata": {},
   "outputs": [
    {
     "name": "stdout",
     "output_type": "stream",
     "text": [
      "1/1 [==============================] - 0s 21ms/step\n",
      "Prediction: 3\n"
     ]
    },
    {
     "data": {
      "image/png": "[encoded data removed]",
      "text/plain": [
       "<Figure size 432x288 with 1 Axes>"
      ]
     },
     "metadata": {
      "needs_background": "light"
     },
     "output_type": "display_data"
    }
   ],
   "source": [
    "image_index = (random.randint(0,1000))\n",
    "plt.imshow(x_test[image_index].reshape(28,28), cmap='Greens')\n",
    "pred = model.predict(x_test[image_index].reshape(1,28,28,1))\n",
    "print(\"Prediction:\", pred.argmax())"
   ]
  },
  {
   "cell_type": "code",
   "execution_count": null,
   "id": "55639acf",
   "metadata": {},
   "outputs": [],
   "source": [
    "."
   ]
  }
 ],
 "metadata": {
  "kernelspec": {
   "display_name": "Python 3 (ipykernel)",
   "language": "python",
   "name": "python3"
  },
  "language_info": {
   "codemirror_mode": {
    "name": "ipython",
    "version": 3
   },
   "file_extension": ".py",
   "mimetype": "text/x-python",
   "name": "python",
   "nbconvert_exporter": "python",
   "pygments_lexer": "ipython3",
   "version": "3.9.12"
  }
 },
 "nbformat": 4,
 "nbformat_minor": 5
}
